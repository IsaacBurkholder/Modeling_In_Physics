{
 "cells": [
  {
   "cell_type": "markdown",
   "id": "1a25ca6d",
   "metadata": {},
   "source": [
    "# Finding the Energy Levels of a Particle in a Box\n",
    "Here we will use Root Finding methods in order to solve the possible energy levels of the given transcendental functions."
   ]
  },
  {
   "cell_type": "markdown",
   "id": "0cf36c13",
   "metadata": {},
   "source": [
    "Consider a particle in a square well potential where $V(x)=0$ for $x<|a|$ and $V(x)=V_0$ for $x<|a|$. Since when $V\\rightarrow \\infty$ we have a box, let us guess what the lowering of the walls does to the states. First of all, all the bound states (which alone we are interested in), will have $E\\leq V_0$. Second, the wave functions of the low-lying levels will look like those of the particle in a box, with the obvious difference that $\\psi$ will not vanish at the walls but instead spill out with an exponential tail. The eigenfunctions will still be even, odd, even, etc. First we will show that the even solutions have energies that satisfy the transcendental equation $k\\tan(ka)=\\kappa$, while the odd ones will have energies that satisfy $k\\cot(ka)=-\\kappa$, where $k$ and $\\kappa$ are the real and complex wave numbers inside and outside the well, respectively. Note that $k$ and $\\kappa$ are related by $k^2+\\kappa^2=2mV_0/\\hbar^2$. Verify that as $V_0$ tends to $\\infty$, we regain the levels in the box. (2) Equations (5.2.23) and (5.2.24) [the two  transcendental equations above) must be solved numerically to obtain the bound state energies, hence we will solve these equations using a root bisection method to obtain all of the bound state energies. Let $a = 1 nm$, $V_0 = 20 eV$, and let the mass of the particle be $m = 511,000 eV/c^2$ It will also be useful to note that $\\hbar c = 197 eV·nm$. You should end up with eight “even” energies and seven “odd” energies."
   ]
  },
  {
   "cell_type": "code",
   "execution_count": 9,
   "id": "10830331",
   "metadata": {},
   "outputs": [
    {
     "name": "stderr",
     "output_type": "stream",
     "text": [
      "C:\\Users\\irbdr\\AppData\\Local\\Temp/ipykernel_20716/1706987161.py:18: RuntimeWarning: invalid value encountered in true_divide\n",
      "  return -k*1/np.tan(a*k)-kappa\n"
     ]
    },
    {
     "data": {
      "image/png": "[encoded data removed]",
      "text/plain": [
       "<Figure size 432x288 with 1 Axes>"
      ]
     },
     "metadata": {
      "needs_background": "light"
     },
     "output_type": "display_data"
    }
   ],
   "source": [
    "import numpy as np\n",
    "from matplotlib import pyplot as plt\n",
    "a=1 #nanometer\n",
    "V0=20 #eV\n",
    "m=511000 #eV/c^2\n",
    "hc= 197 #eV * nm\n",
    "\n",
    "#Define the Transcendental even functions\n",
    "def func1(E):\n",
    "    k= -np.sqrt(abs(2*m*E/hc**2))\n",
    "    kappa= np.sqrt(2*m*(V0-E)/hc**2)\n",
    "    return k*np.tan(a*k)-kappa\n",
    "\n",
    "#Define the Trancendental Odd Functions\n",
    "def func2(E):\n",
    "    k=np.sqrt(2*m*E/hc**2)\n",
    "    kappa=np.sqrt(2*m*(V0-E)/hc**2)\n",
    "    return -k*1/np.tan(a*k)-kappa\n",
    "\n",
    "#plot the function in order to make good guesses\n",
    "Energies=np.linspace(0,19,100)\n",
    "Even = func1(Energies)\n",
    "Odd = func2(Energies)\n",
    "\n",
    "#we expect to see an error here from the asymptotes, which is excactly what we get.\n",
    "plt.plot(Energies, Even,'b')\n",
    "plt.plot(Energies, Odd,'g')\n",
    "plt.show()"
   ]
  },
  {
   "cell_type": "code",
   "execution_count": 10,
   "id": "5325aa01",
   "metadata": {},
   "outputs": [
    {
     "name": "stdout",
     "output_type": "stream",
     "text": [
      "Guess Left of zero : 12.5\n",
      "Guess Right of zero : 15\n",
      "14.309678077697754\n",
      "Guess Left of zero : 8\n",
      "Guess Right of zero : 10\n",
      "Guess Again!-12.022980926751888-44.58197612779942\n",
      "8.0\n"
     ]
    },
    {
     "ename": "KeyboardInterrupt",
     "evalue": "Interrupted by user",
     "output_type": "error",
     "traceback": [
      "\u001b[1;31m---------------------------------------------------------------------------\u001b[0m",
      "\u001b[1;31mKeyboardInterrupt\u001b[0m                         Traceback (most recent call last)",
      "\u001b[1;32m~\\AppData\\Local\\Temp/ipykernel_20716/437603608.py\u001b[0m in \u001b[0;36m<module>\u001b[1;34m\u001b[0m\n\u001b[0;32m      3\u001b[0m \u001b[1;33m\u001b[0m\u001b[0m\n\u001b[0;32m      4\u001b[0m     \u001b[1;31m#Make a gues for the roots create a range around the point\u001b[0m\u001b[1;33m\u001b[0m\u001b[1;33m\u001b[0m\u001b[0m\n\u001b[1;32m----> 5\u001b[1;33m     \u001b[0mGuessleft\u001b[0m\u001b[1;33m=\u001b[0m \u001b[0mfloat\u001b[0m\u001b[1;33m(\u001b[0m\u001b[0minput\u001b[0m\u001b[1;33m(\u001b[0m\u001b[1;34m\"Guess Left of zero : \"\u001b[0m\u001b[1;33m)\u001b[0m\u001b[1;33m)\u001b[0m\u001b[1;33m\u001b[0m\u001b[1;33m\u001b[0m\u001b[0m\n\u001b[0m\u001b[0;32m      6\u001b[0m     \u001b[0mGuessright\u001b[0m\u001b[1;33m=\u001b[0m\u001b[0mfloat\u001b[0m\u001b[1;33m(\u001b[0m\u001b[0minput\u001b[0m\u001b[1;33m(\u001b[0m\u001b[1;34m\"Guess Right of zero : \"\u001b[0m\u001b[1;33m)\u001b[0m\u001b[1;33m)\u001b[0m\u001b[1;33m\u001b[0m\u001b[1;33m\u001b[0m\u001b[0m\n\u001b[0;32m      7\u001b[0m     \u001b[0mx1\u001b[0m\u001b[1;33m=\u001b[0m\u001b[0mGuessleft\u001b[0m\u001b[1;33m\u001b[0m\u001b[1;33m\u001b[0m\u001b[0m\n",
      "\u001b[1;32m~\\anaconda3\\lib\\site-packages\\ipykernel\\kernelbase.py\u001b[0m in \u001b[0;36mraw_input\u001b[1;34m(self, prompt)\u001b[0m\n\u001b[0;32m   1004\u001b[0m                 \u001b[1;34m\"raw_input was called, but this frontend does not support input requests.\"\u001b[0m\u001b[1;33m\u001b[0m\u001b[1;33m\u001b[0m\u001b[0m\n\u001b[0;32m   1005\u001b[0m             )\n\u001b[1;32m-> 1006\u001b[1;33m         return self._input_request(\n\u001b[0m\u001b[0;32m   1007\u001b[0m             \u001b[0mstr\u001b[0m\u001b[1;33m(\u001b[0m\u001b[0mprompt\u001b[0m\u001b[1;33m)\u001b[0m\u001b[1;33m,\u001b[0m\u001b[1;33m\u001b[0m\u001b[1;33m\u001b[0m\u001b[0m\n\u001b[0;32m   1008\u001b[0m             \u001b[0mself\u001b[0m\u001b[1;33m.\u001b[0m\u001b[0m_parent_ident\u001b[0m\u001b[1;33m[\u001b[0m\u001b[1;34m\"shell\"\u001b[0m\u001b[1;33m]\u001b[0m\u001b[1;33m,\u001b[0m\u001b[1;33m\u001b[0m\u001b[1;33m\u001b[0m\u001b[0m\n",
      "\u001b[1;32m~\\anaconda3\\lib\\site-packages\\ipykernel\\kernelbase.py\u001b[0m in \u001b[0;36m_input_request\u001b[1;34m(self, prompt, ident, parent, password)\u001b[0m\n\u001b[0;32m   1049\u001b[0m             \u001b[1;32mexcept\u001b[0m \u001b[0mKeyboardInterrupt\u001b[0m\u001b[1;33m:\u001b[0m\u001b[1;33m\u001b[0m\u001b[1;33m\u001b[0m\u001b[0m\n\u001b[0;32m   1050\u001b[0m                 \u001b[1;31m# re-raise KeyboardInterrupt, to truncate traceback\u001b[0m\u001b[1;33m\u001b[0m\u001b[1;33m\u001b[0m\u001b[0m\n\u001b[1;32m-> 1051\u001b[1;33m                 \u001b[1;32mraise\u001b[0m \u001b[0mKeyboardInterrupt\u001b[0m\u001b[1;33m(\u001b[0m\u001b[1;34m\"Interrupted by user\"\u001b[0m\u001b[1;33m)\u001b[0m \u001b[1;32mfrom\u001b[0m \u001b[1;32mNone\u001b[0m\u001b[1;33m\u001b[0m\u001b[1;33m\u001b[0m\u001b[0m\n\u001b[0m\u001b[0;32m   1052\u001b[0m             \u001b[1;32mexcept\u001b[0m \u001b[0mException\u001b[0m\u001b[1;33m:\u001b[0m\u001b[1;33m\u001b[0m\u001b[1;33m\u001b[0m\u001b[0m\n\u001b[0;32m   1053\u001b[0m                 \u001b[0mself\u001b[0m\u001b[1;33m.\u001b[0m\u001b[0mlog\u001b[0m\u001b[1;33m.\u001b[0m\u001b[0mwarning\u001b[0m\u001b[1;33m(\u001b[0m\u001b[1;34m\"Invalid Message:\"\u001b[0m\u001b[1;33m,\u001b[0m \u001b[0mexc_info\u001b[0m\u001b[1;33m=\u001b[0m\u001b[1;32mTrue\u001b[0m\u001b[1;33m)\u001b[0m\u001b[1;33m\u001b[0m\u001b[1;33m\u001b[0m\u001b[0m\n",
      "\u001b[1;31mKeyboardInterrupt\u001b[0m: Interrupted by user"
     ]
    }
   ],
   "source": [
    "#Root finding\n",
    "for i in range(8):\n",
    "    \n",
    "    #Make a guess for the roots to create a range around the zero\n",
    "    #Blue function\n",
    "    Guessleft= float(input(\"Guess Left of zero : \"))\n",
    "    Guessright=float(input(\"Guess Right of zero : \"))\n",
    "    x1=Guessleft\n",
    "    x2=Guessright\n",
    "    \n",
    "    error=1 #define dummy variable to track error\n",
    "    accuracy = 10e-6 #Desire Accuracy of our function\n",
    "    \n",
    "    #This is for the first function (evens)\n",
    "    if np.sign(func1(x1)) == np.sign(func1(x2)):\n",
    "        print(\"Guess Again!\"+str(func1(x1))+str(func1(x2)))\n",
    "    else:\n",
    "        while error>accuracy:\n",
    "            xnew = .5 *(x1+x2)\n",
    "            if np.sign(func1(xnew)) == np.sign(func1(x1)):\n",
    "                x1 = xnew\n",
    "            else:\n",
    "                x2 = xnew\n",
    "            error = abs(x1 -x2)\n",
    "        x1 = .5*(x1+x2)\n",
    "    print('Even Zero located at 'str(x1))\n",
    "\n",
    "for j in range(7):\n",
    "    #Make a guess for the roots to create a range around the zero\n",
    "    #Green function\n",
    "    Guessleft= float(input(\"Guess Left of zero : \"))\n",
    "    Guessright=float(input(\"Guess Right of zero : \"))\n",
    "    x1=Guessleft\n",
    "    x2=Guessright\n",
    "    \n",
    "    error=1 #define dummy variable to track error\n",
    "    accuracy = 10e-6 #Desire Accuracy of our function\n",
    "    \n",
    "    #This is for the second function (odds)\n",
    "    if np.sign(func1(x1)) == np.sign(func1(x2)):\n",
    "        print(\"Guess Again!\"+str(func2(x1))+str(func2(x2)))\n",
    "    else:\n",
    "        while error>accuracy:\n",
    "            xnew = .5 *(x1+x2)\n",
    "            if np.sign(func1(xnew)) == np.sign(func1(x1)):\n",
    "                x1 = xnew\n",
    "            else:\n",
    "                x2 = xnew\n",
    "            error = abs(x1 -x2)\n",
    "        x1 = .5*(x1+x2)\n",
    "    print('Odd Zero located at 'str(x1))"
   ]
  },
  {
   "cell_type": "code",
   "execution_count": null,
   "id": "a770126d",
   "metadata": {},
   "outputs": [],
   "source": []
  }
 ],
 "metadata": {
  "kernelspec": {
   "display_name": "Python 3 (ipykernel)",
   "language": "python",
   "name": "python3"
  },
  "language_info": {
   "codemirror_mode": {
    "name": "ipython",
    "version": 3
   },
   "file_extension": ".py",
   "mimetype": "text/x-python",
   "name": "python",
   "nbconvert_exporter": "python",
   "pygments_lexer": "ipython3",
   "version": "3.9.7"
  }
 },
 "nbformat": 4,
 "nbformat_minor": 5
}
