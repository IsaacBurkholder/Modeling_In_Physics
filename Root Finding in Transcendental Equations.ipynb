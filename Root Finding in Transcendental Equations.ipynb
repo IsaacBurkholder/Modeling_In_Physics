{
 "cells": [
  {
   "cell_type": "markdown",
   "id": "798f16cf",
   "metadata": {},
   "source": [
    "# Transcendental Equations\n",
    "\n",
    "Transcendental Equations are functions that have no analytical solutions. One potential way to sovle them is the guess and check method, aka the relaxation\n",
    "method."
   ]
  },
  {
   "cell_type": "code",
   "execution_count": 1,
   "id": "3d9e20e5",
   "metadata": {},
   "outputs": [
    {
     "name": "stdout",
     "output_type": "stream",
     "text": [
      "1.8414085178795836\n"
     ]
    }
   ],
   "source": [
    "from numpy import exp\n",
    "\n",
    "#seed variable (guess)\n",
    "x = 5 \n",
    "xold= x\n",
    "\n",
    "#relaxation variable\n",
    "w = .2\n",
    "\n",
    "#relaxation loop\n",
    "error = 1\n",
    "accuracy =10e-6\n",
    "while error>accuracy:\n",
    "    x = (2 - exp(-x)) +w*(x-2+exp(-x)) \n",
    "    error = abs(x-xold)\n",
    "    xold = x\n",
    "print(x)"
   ]
  },
  {
   "cell_type": "markdown",
   "id": "a1ad74cd",
   "metadata": {},
   "source": [
    "## Binary search method\n",
    "Compared to the relaxation method, this is more robust. First, guess a range where there is a zero. Find $f(x_{min})$ and $f(x_{max})$ and check that they have opposite signs (from numpy import sign). Find $f(x^{'})$ and where x' = (xmin+xmax)/2. For a more complete example used in Quantum Mechanics, see my project, https://github.com/IsaacBurkholder/Modeling_In_Physics/blob/main/Numerical%20Root%20Finding%20in%20Quantum%20Mechanics.ipynb"
   ]
  },
  {
   "cell_type": "code",
   "execution_count": 4,
   "id": "d400ac74",
   "metadata": {},
   "outputs": [
    {
     "name": "stdout",
     "output_type": "stream",
     "text": [
      "1.8414056599140167\n"
     ]
    }
   ],
   "source": [
    "from numpy import exp, sign\n",
    "\n",
    "#These are our guesses \n",
    "x1 = 1\n",
    "x2 = 2\n",
    "accuracy = 10e-8\n",
    "error = 1\n",
    "\n",
    "def f(x):\n",
    "    return -x +(2 - exp(-x))\n",
    "\n",
    "if sign(f(x1)) == sign(f(x2)):\n",
    "    print(\"Guess Again!\")\n",
    "else:\n",
    "    while error>accuracy:\n",
    "        xnew = .5 *(x1+x2)\n",
    "        if sign(f(xnew)) == sign (f(x1)):\n",
    "            x1 = xnew\n",
    "        else:\n",
    "            x2 = xnew\n",
    "        error = abs(x1 -x2)\n",
    "    x1 = .5*(x1+x2)\n",
    "print(x1)\n"
   ]
  },
  {
   "cell_type": "markdown",
   "id": "ffc745d2",
   "metadata": {},
   "source": [
    "# Newton's Method & The Secant Method\n",
    "Solves the same equations with different advantages and disadvantages. First, guess an $x$ value. Then find $x_{new}$ and $f^{\\prime}(x)$, and use the tangent line to find the next iteration of $x_{new}$ and repeat until you find a solution. This method works for finding polynomial roots in the complex plane."
   ]
  },
  {
   "cell_type": "code",
   "execution_count": 21,
   "id": "8f1b0bf3",
   "metadata": {},
   "outputs": [
    {
     "name": "stdout",
     "output_type": "stream",
     "text": [
      "1.841405660436958\n"
     ]
    }
   ],
   "source": [
    "from numpy import exp, sign\n",
    "\n",
    "x1 = 5\n",
    "h = 1e-3\n",
    "accuracy = 1e-14\n",
    "error = 1\n",
    "\n",
    "def der(x):\n",
    "    return (f(x+h) - f(x-h))/2/h\n",
    "\n",
    "def f(x):\n",
    "    return -x +(2 - exp(-x))\n",
    "\n",
    "d1 = der(x1)\n",
    "\n",
    "while error>accuracy:\n",
    "        d1 = der(x1)\n",
    "        x1 = -f(x1)/d1+x1\n",
    "        error = abs(f(x1))\n",
    "print(x1)"
   ]
  },
  {
   "cell_type": "markdown",
   "id": "7b50e3d0",
   "metadata": {},
   "source": [
    "Here is an example, where we solve a the transcendental equation $5 e^{-x}+x+5 = 0$ using the binary method with accuracy of $10^{-6}$."
   ]
  },
  {
   "cell_type": "code",
   "execution_count": 5,
   "id": "e641d1e4",
   "metadata": {},
   "outputs": [
    {
     "name": "stdout",
     "output_type": "stream",
     "text": [
      "2.980232238769531e-07\n"
     ]
    }
   ],
   "source": [
    "from numpy import exp, sign\n",
    "\n",
    "x1 = 0\n",
    "x2 = 10\n",
    "accuracy = 1e-6\n",
    "error = 1\n",
    "\n",
    "def f(x):\n",
    "    return 5*exp(-x) +x -5\n",
    "\n",
    "if sign(f(x1)) == sign(f(x2)):\n",
    "    print(\"Guess Again! \")\n",
    "else:\n",
    "    while error>accuracy:\n",
    "        xnew = .5 *(x1+x2)\n",
    "        if sign(f(xnew)) == sign (f(x1)):\n",
    "            x1 = xnew\n",
    "        else:\n",
    "            x2 = xnew\n",
    "        error = abs(x1 -x2)\n",
    "    x1 = .5*(x1+x2)\n",
    "print(x1)\n"
   ]
  },
  {
   "cell_type": "markdown",
   "id": "d5bdc11a",
   "metadata": {},
   "source": [
    "Now we will use our solution to the equation above to solve for the temperature of the sun, knowing that $\\lambda=502$nm"
   ]
  },
  {
   "cell_type": "code",
   "execution_count": 26,
   "id": "1d29a66c",
   "metadata": {},
   "outputs": [
    {
     "name": "stdout",
     "output_type": "stream",
     "text": [
      "4.965114146471024\n",
      "5773.4131601081735\n"
     ]
    }
   ],
   "source": [
    "from numpy import exp, sign\n",
    "\n",
    "h = 6.63e-34\n",
    "kb =8.617e-5\n",
    "x1 = 1\n",
    "x2 = 10\n",
    "accuracy = 1e-6\n",
    "error = 1\n",
    "\n",
    "def f(x):\n",
    "    return 5*exp(-x) +x -5\n",
    "\n",
    "if sign(f(x1)) == sign(f(x2)):\n",
    "    print(\"Guess Again!\")\n",
    "else:\n",
    "    while error>accuracy:\n",
    "        xnew = .5 *(x1+x2)\n",
    "        if sign(f(xnew)) == sign (f(x1)):\n",
    "            x1 = xnew\n",
    "        else:\n",
    "            x2 = xnew\n",
    "        error = abs(x1 -x2)\n",
    "    x1 = .5*(x1+x2)\n",
    "\n",
    "b = 1240/x1/kb\n",
    "T=b/502\n",
    "\n",
    "print(T)"
   ]
  },
  {
   "cell_type": "markdown",
   "id": "4637cb5b",
   "metadata": {},
   "source": [
    "Transcendental equations may not have an analytical solution, but using numerical methods we can solve these functions to an acceptable accuracy. These functions appear all over in nature, such as searching for the sun's surface temperature, or root finding to find the energy levels of a particle in quantum mechanics."
   ]
  },
  {
   "cell_type": "code",
   "execution_count": null,
   "id": "c9e524f6",
   "metadata": {},
   "outputs": [],
   "source": []
  }
 ],
 "metadata": {
  "kernelspec": {
   "display_name": "Python 3 (ipykernel)",
   "language": "python",
   "name": "python3"
  },
  "language_info": {
   "codemirror_mode": {
    "name": "ipython",
    "version": 3
   },
   "file_extension": ".py",
   "mimetype": "text/x-python",
   "name": "python",
   "nbconvert_exporter": "python",
   "pygments_lexer": "ipython3",
   "version": "3.9.7"
  }
 },
 "nbformat": 4,
 "nbformat_minor": 5
}
